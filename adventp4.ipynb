{
  "metadata": {
    "kernelspec": {
      "name": "python",
      "display_name": "Python (Pyodide)",
      "language": "python"
    },
    "language_info": {
      "codemirror_mode": {
        "name": "python",
        "version": 3
      },
      "file_extension": ".py",
      "mimetype": "text/x-python",
      "name": "python",
      "nbconvert_exporter": "python",
      "pygments_lexer": "ipython3",
      "version": "3.8"
    }
  },
  "nbformat_minor": 4,
  "nbformat": 4,
  "cells": [
    {
      "cell_type": "code",
      "source": "input = open('p4input.txt','r')\n#print(input.read())\n\nexample1 = 'Card   1: 26 36 90  2 75 32  3 21 59 18 | 47 97 83 82 43  7 61 73 57  2 67 31 69 11 44 38 23 52 10 21 45 36 86 49 14'\nexample2 = 'Card   2: 45 10 54 17 15 38 59 96 25 32 | 17 12 77 87 29 70 38 96 15 54 86 64 32 10 28 59 24 45 65 81 42 25 98 14 60'\nexample3 = 'Card   3: 37 31 21 71 80 76 91 77 64 69 | 90 71 91 13  2 40 83 22 45 31 69 53 77 27 97 35  4 55 14  9 52 21 16 19 63'\n\ncard1 = example1.split(':')[1].split('|')\nwinners = card1[0].split()\nyournumbers = card1[1].split()\nprint(\"winners \" + str(winners))\nprint(\"yournumbers \" + str(yournumbers))\nfor winner in winners:\n    print(winner)\n    if(winner in yournumbers):\n        print(\"winner! \" + winner)",
      "metadata": {
        "trusted": true
      },
      "outputs": [
        {
          "name": "stdout",
          "text": "winners ['26', '36', '90', '2', '75', '32', '3', '21', '59', '18']\nyournumbers ['47', '97', '83', '82', '43', '7', '61', '73', '57', '2', '67', '31', '69', '11', '44', '38', '23', '52', '10', '21', '45', '36', '86', '49', '14']\n26\n36\nwinner! 36\n90\n2\nwinner! 2\n75\n32\n3\n21\nwinner! 21\n59\n18\n",
          "output_type": "stream"
        }
      ],
      "execution_count": 27
    },
    {
      "cell_type": "code",
      "source": "runningTotal = 0\n\nfor line in input:\n    score = 0.5\n    card = line.split(':')[1].split('|')\n    winners = card[0].split()\n    yournumbers = card[1].split()\n    for winner in winners:\n        if(winner in yournumbers):\n            score *= 2\n    runningTotal += int(score)\nprint(runningTotal)\n",
      "metadata": {
        "trusted": true
      },
      "outputs": [
        {
          "name": "stdout",
          "text": "21213\n",
          "output_type": "stream"
        }
      ],
      "execution_count": 28
    },
    {
      "cell_type": "markdown",
      "source": "### part 2\n- need to keep track of number of matches\n- then every time I process a line, re-process it by theeeeeee hmmmmmmmmmmmmmmmmmmmmmmmmmmm think I need recursion shit\n- so... we make the winner checker a function\n- and then weeeeee somehow do the recursive calls but delay them until we get there... e.g. 10 tickets get kicked off, but wait for #10 until we get there while we do 2 and then 3 etc. ",
      "metadata": {}
    },
    {
      "cell_type": "code",
      "source": "\ninput = open('p4input.txt','r')\n\ndef count_matches(line):\n    matches = 0\n    card = line.split(':')[1].split('|')\n    winners = card[0].split()\n    yournumbers = card[1].split()\n    for winner in winners:\n        if(winner in yournumbers):\n            matches += 1\n    return matches\n\nkeepGoing = True\nmatches = 1\ntotal = 1\nwhile keepGoing:\n    line = input.readline()\n    for x in range(0, matches):\n        matches = count_matches(line)\n        total += matches\n        # kick off that many triggers down the line... How do I do that recursively??????\n        if(matches == 0):\n            keepGoing = False\n\nprint(total)\n\n\n\n\n            ",
      "metadata": {
        "trusted": true
      },
      "outputs": [
        {
          "name": "stdout",
          "text": "773\n",
          "output_type": "stream"
        }
      ],
      "execution_count": 33
    },
    {
      "cell_type": "code",
      "source": "",
      "metadata": {
        "trusted": true
      },
      "outputs": [],
      "execution_count": null
    }
  ]
}