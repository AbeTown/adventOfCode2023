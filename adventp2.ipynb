{
  "metadata": {
    "kernelspec": {
      "name": "python",
      "display_name": "Python (Pyodide)",
      "language": "python"
    },
    "language_info": {
      "codemirror_mode": {
        "name": "python",
        "version": 3
      },
      "file_extension": ".py",
      "mimetype": "text/x-python",
      "name": "python",
      "nbconvert_exporter": "python",
      "pygments_lexer": "ipython3",
      "version": "3.8"
    }
  },
  "nbformat_minor": 4,
  "nbformat": 4,
  "cells": [
    {
      "cell_type": "markdown",
      "source": "# advent code day 2",
      "metadata": {}
    },
    {
      "cell_type": "markdown",
      "source": "### puzzle 1",
      "metadata": {}
    },
    {
      "cell_type": "markdown",
      "source": "### gameplan:\n- go through line by line\n- split into draws and game number\n- cut out game number from line, store it, based on ';' (not sure how?)\n- split draws based on semicolon, store in list\n- go through list item by item\n- split item by comma, store in list\n- go through colors one by one\n- split by space, should give a number and a color\n- green = 15, blue = 16, red = 17 or whatever\n- can't think of a super clever way to compare those... dictionary?",
      "metadata": {}
    },
    {
      "cell_type": "code",
      "source": "input = open('p2input.txt', 'r')\n#print(input.read())\n\nmaxColors = {'red' : 12, 'blue' : 14, 'green' : 13}\nprint(maxColors)\n\n#example data\nline1 = 'Game 1: 1 green, 2 blue; 15 blue, 12 red, 2 green; 4 red, 6 blue; 10 blue, 8 red; 3 red, 12 blue; 1 green, 12 red, 8 blue'\nline2 = 'Game 2: 5 green, 2 red, 18 blue; 18 blue, 6 red, 9 green; 6 blue, 3 green; 6 green, 1 red, 9 blue; 19 blue, 2 green, 6 red'\nline3 = 'Game 3: 16 red, 10 green; 12 red, 6 blue, 9 green; 10 green, 5 blue; 10 green, 16 red; 5 red, 8 green, 8 blue'\nline4 = 'Game 4: 9 blue, 20 green; 1 red, 3 blue, 10 green; 7 blue, 18 green; 4 blue, 20 green; 8 blue, 1 green, 1 red; 1 green'\nline5 = 'Game 5: 3 green, 8 red; 1 blue, 10 red; 6 red, 4 green; 8 red, 1 blue, 3 green; 1 blue, 4 green, 3 red; 1 green, 1 blue, 4 red'",
      "metadata": {
        "trusted": true
      },
      "outputs": [
        {
          "name": "stdout",
          "text": "{'red': 12, 'blue': 14, 'green': 13}\n",
          "output_type": "stream"
        }
      ],
      "execution_count": 49
    },
    {
      "cell_type": "code",
      "source": "gameAndDraws = line1.split(':')\nprint(gameAndDraws)\n\n#input line will look like: 'Game 7'\ndef get_game_number(line):\n    splitLine = line.split()\n    #print(splitLine)\n    #return \"yaaaay\"\n    return int(splitLine[1])\n\n#example data\ngame1 = line1.split(':')[0]\ngame2 = line2.split(':')[0]\ngame3 = line3.split(':')[0]\n\n#print(get_game_number(game1))\n#print(get_game_number(game2))\n#print(get_game_number(game3))",
      "metadata": {
        "trusted": true
      },
      "outputs": [
        {
          "name": "stdout",
          "text": "['Game 1', ' 1 green, 2 blue; 15 blue, 12 red, 2 green; 4 red, 6 blue; 10 blue, 8 red; 3 red, 12 blue; 1 green, 12 red, 8 blue']\n",
          "output_type": "stream"
        }
      ],
      "execution_count": 50
    },
    {
      "cell_type": "code",
      "source": "#split draws based on semicolon, store in list\ndraws = gameAndDraws[1].split(';')\nprint(draws)",
      "metadata": {
        "trusted": true
      },
      "outputs": [
        {
          "name": "stdout",
          "text": "[' 1 green, 2 blue', ' 15 blue, 12 red, 2 green', ' 4 red, 6 blue', ' 10 blue, 8 red', ' 3 red, 12 blue', ' 1 green, 12 red, 8 blue']\n",
          "output_type": "stream"
        }
      ],
      "execution_count": 51
    },
    {
      "cell_type": "code",
      "source": "#go thru draw by draw, split into colors\ncolors = draws[0].split(',')\nprint(colors)",
      "metadata": {
        "trusted": true
      },
      "outputs": [
        {
          "name": "stdout",
          "text": "[' 1 green', ' 2 blue']\n",
          "output_type": "stream"
        }
      ],
      "execution_count": 52
    },
    {
      "cell_type": "code",
      "source": "#go thru color by color, split by space, should give a number and a color\nfirstColor = colors[0].split()\nsecondColor = colors[1].split()\n\nfirstColorNumber = firstColor[0]\nfirstColorColor = firstColor[1]\nsecondColorNumber = secondColor[0]\nsecondColorColor = secondColor[1]\n\nprint(firstColorNumber)\nprint(firstColorColor)\nprint(secondColorNumber)\nprint(secondColorColor)",
      "metadata": {
        "trusted": true
      },
      "outputs": [
        {
          "name": "stdout",
          "text": "1\ngreen\n2\nblue\n",
          "output_type": "stream"
        }
      ],
      "execution_count": 53
    },
    {
      "cell_type": "code",
      "source": "# check against dictionary totals\nmaxColors[firstColorColor] > int(firstColorNumber)\n\n#if true for all colors in a draw, then add game number to running total",
      "metadata": {
        "trusted": true
      },
      "outputs": [
        {
          "execution_count": 54,
          "output_type": "execute_result",
          "data": {
            "text/plain": "True"
          },
          "metadata": {}
        }
      ],
      "execution_count": 54
    },
    {
      "cell_type": "code",
      "source": "### Puttin it all together\n#Can test data here (coomment out for loop):\n#line = line5\nrunningTotal = 0\nfor line in input:\n    print(line)\n    validGame = True\n    #split into game number and draw\n    gameAndDraws = line.split(':')\n    #split draws and store in list\n    draws = gameAndDraws[1].split(';')\n    \n    #go through draws one by one\n    for draw in draws:\n        colors = draw.split(',')\n        #go through colors in draw one by one\n        for color in colors:\n            colorSplit = color.split()\n            colorDrawn = colorSplit[1]\n            numberDrawn = colorSplit[0]\n    \n            #check against dictionary\n            if(maxColors[colorDrawn] < int(numberDrawn)):\n                print(draw)\n                print('^ that draw is no good')\n                validGame = False\n    \n    if(validGame):\n        #if all colors in all draws OK, add game number to running total\n        gameNumber = get_game_number(gameAndDraws[0])\n        runningTotal += gameNumber\n        print(\"running total: \" + str(runningTotal))",
      "metadata": {
        "trusted": true,
        "collapsed": true,
        "jupyter": {
          "outputs_hidden": true
        }
      },
      "outputs": [
        {
          "name": "stdout",
          "text": "Game 1: 1 green, 2 blue; 15 blue, 12 red, 2 green; 4 red, 6 blue; 10 blue, 8 red; 3 red, 12 blue; 1 green, 12 red, 8 blue\n\n 15 blue, 12 red, 2 green\n^ that draw is no good\nGame 2: 5 green, 2 red, 18 blue; 18 blue, 6 red, 9 green; 6 blue, 3 green; 6 green, 1 red, 9 blue; 19 blue, 2 green, 6 red\n\n 5 green, 2 red, 18 blue\n^ that draw is no good\n 18 blue, 6 red, 9 green\n^ that draw is no good\n 19 blue, 2 green, 6 red\n\n^ that draw is no good\nGame 3: 16 red, 10 green; 12 red, 6 blue, 9 green; 10 green, 5 blue; 10 green, 16 red; 5 red, 8 green, 8 blue\n\n 16 red, 10 green\n^ that draw is no good\n 10 green, 16 red\n^ that draw is no good\nGame 4: 9 blue, 20 green; 1 red, 3 blue, 10 green; 7 blue, 18 green; 4 blue, 20 green; 8 blue, 1 green, 1 red; 1 green\n\n 9 blue, 20 green\n^ that draw is no good\n 7 blue, 18 green\n^ that draw is no good\n 4 blue, 20 green\n^ that draw is no good\nGame 5: 3 green, 8 red; 1 blue, 10 red; 6 red, 4 green; 8 red, 1 blue, 3 green; 1 blue, 4 green, 3 red; 1 green, 1 blue, 4 red\n\nrunning total: 5\nGame 6: 7 green, 15 red, 11 blue; 2 red, 12 blue; 11 red, 11 green\n\n 7 green, 15 red, 11 blue\n^ that draw is no good\nGame 7: 14 green, 10 blue, 4 red; 3 red, 11 green, 14 blue; 1 red, 2 green, 11 blue; 9 green, 1 red; 6 red, 6 blue, 9 green\n\n 14 green, 10 blue, 4 red\n^ that draw is no good\nGame 8: 1 red, 6 green, 3 blue; 4 green; 4 red, 3 green, 1 blue; 2 red, 10 green, 3 blue; 2 green, 6 red, 3 blue\n\nrunning total: 13\nGame 9: 2 green, 8 red, 3 blue; 2 green, 4 blue, 2 red; 2 green, 5 blue, 2 red\n\nrunning total: 22\nGame 10: 9 green, 1 blue; 2 blue, 12 green, 3 red; 2 red, 3 blue, 1 green; 3 blue, 8 green; 4 blue, 4 red, 1 green; 5 green, 4 blue\n\nrunning total: 32\nGame 11: 5 red, 2 blue, 2 green; 3 blue, 2 green, 8 red; 6 red, 1 green\n\nrunning total: 43\nGame 12: 8 blue, 7 green; 2 green, 2 red, 7 blue; 4 green, 1 red, 20 blue; 5 green, 13 blue, 2 red\n\n 4 green, 1 red, 20 blue\n^ that draw is no good\nGame 13: 1 blue, 11 green, 13 red; 6 blue, 13 red, 19 green; 5 blue, 6 green, 6 red\n\n 1 blue, 11 green, 13 red\n^ that draw is no good\n 6 blue, 13 red, 19 green\n^ that draw is no good\n 6 blue, 13 red, 19 green\n^ that draw is no good\nGame 14: 12 blue, 1 red, 15 green; 16 green; 1 red, 18 blue, 15 green; 14 blue; 12 blue, 1 red, 8 green; 4 blue, 16 green\n\n 12 blue, 1 red, 15 green\n^ that draw is no good\n 16 green\n^ that draw is no good\n 1 red, 18 blue, 15 green\n^ that draw is no good\n 1 red, 18 blue, 15 green\n^ that draw is no good\n 4 blue, 16 green\n\n^ that draw is no good\nGame 15: 6 blue, 3 green; 1 red, 1 blue, 2 green; 3 green, 4 blue, 7 red\n\nrunning total: 58\nGame 16: 17 red, 14 green, 6 blue; 5 blue, 2 red; 1 blue, 11 red, 2 green; 13 green, 12 red\n\n 17 red, 14 green, 6 blue\n^ that draw is no good\n 17 red, 14 green, 6 blue\n^ that draw is no good\nGame 17: 14 green, 4 red; 1 green, 5 blue, 15 red; 5 green, 14 red, 5 blue\n\n 14 green, 4 red\n^ that draw is no good\n 1 green, 5 blue, 15 red\n^ that draw is no good\n 5 green, 14 red, 5 blue\n\n^ that draw is no good\nGame 18: 8 blue, 2 green, 1 red; 12 blue, 1 green; 1 green, 1 red, 5 blue; 1 green, 1 red, 9 blue\n\nrunning total: 76\nGame 19: 1 red, 2 blue; 2 green, 5 red; 1 blue, 2 green, 11 red; 10 red; 4 green, 11 red\n\nrunning total: 95\nGame 20: 5 red, 11 green, 5 blue; 2 red, 5 blue, 7 green; 12 blue, 5 green, 10 red; 4 blue, 15 red, 10 green; 11 green, 12 blue, 7 red; 15 red, 12 blue, 5 green\n\n 4 blue, 15 red, 10 green\n^ that draw is no good\n 15 red, 12 blue, 5 green\n\n^ that draw is no good\nGame 21: 5 blue, 6 green, 1 red; 18 blue, 13 green; 7 blue, 3 red; 9 blue, 2 red, 14 green\n\n 18 blue, 13 green\n^ that draw is no good\n 9 blue, 2 red, 14 green\n\n^ that draw is no good\nGame 22: 4 blue, 2 green, 19 red; 11 green, 5 blue, 17 red; 12 red, 4 blue, 13 green; 2 blue, 11 green; 1 blue, 19 red, 10 green; 8 blue, 2 green\n\n 4 blue, 2 green, 19 red\n^ that draw is no good\n 11 green, 5 blue, 17 red\n^ that draw is no good\n 1 blue, 19 red, 10 green\n^ that draw is no good\nGame 23: 12 green, 6 red; 1 blue, 1 red, 11 green; 1 blue, 3 red, 8 green; 4 green, 8 red\n\nrunning total: 118\nGame 24: 8 blue, 1 green, 6 red; 6 blue, 9 red; 8 red, 1 green, 1 blue\n\nrunning total: 142\nGame 25: 2 red, 4 blue, 1 green; 1 blue, 4 red, 2 green; 1 green, 5 blue, 1 red; 3 red, 2 blue\n\nrunning total: 167\nGame 26: 2 green, 10 blue, 5 red; 14 blue, 6 green, 12 red; 7 green, 2 red, 1 blue; 3 blue, 5 green, 3 red; 7 blue, 1 red, 3 green; 5 red, 2 green, 6 blue\n\nrunning total: 193\nGame 27: 8 blue, 2 red; 2 green, 8 blue, 6 red; 4 green, 2 red; 2 blue, 4 green, 7 red\n\nrunning total: 220\nGame 28: 8 green; 1 red, 9 blue, 10 green; 8 green, 9 blue, 2 red\n\nrunning total: 248\nGame 29: 5 red, 3 green, 2 blue; 12 red, 6 blue, 1 green; 6 red, 12 blue; 2 green, 4 blue, 5 red\n\nrunning total: 277\nGame 30: 9 red, 1 blue, 2 green; 13 green, 12 blue, 11 red; 11 red, 5 green, 9 blue; 4 blue, 12 green, 3 red; 10 red, 8 green; 2 red, 3 blue, 12 green\n\nrunning total: 307\nGame 31: 11 green, 5 red; 1 green, 4 red; 6 green, 9 red, 2 blue\n\nrunning total: 338\nGame 32: 6 blue, 3 red; 2 red, 11 blue, 4 green; 1 green, 4 red, 12 blue; 3 blue, 2 red\n\nrunning total: 370\nGame 33: 1 green, 7 red; 15 red, 15 green, 1 blue; 15 green, 3 red; 1 blue, 13 green, 6 red; 1 blue, 13 green, 20 red\n\n 15 red, 15 green, 1 blue\n^ that draw is no good\n 15 red, 15 green, 1 blue\n^ that draw is no good\n 15 green, 3 red\n^ that draw is no good\n 1 blue, 13 green, 20 red\n\n^ that draw is no good\nGame 34: 3 red, 5 green, 1 blue; 13 green, 5 blue, 2 red; 3 red, 3 blue, 8 green; 3 blue, 1 red, 1 green; 4 blue, 3 red; 9 green, 3 red\n\nrunning total: 404\nGame 35: 6 blue, 8 green; 6 red, 9 blue, 12 green; 4 green, 3 blue; 5 red, 3 blue\n\nrunning total: 439\nGame 36: 17 green, 1 red, 1 blue; 1 red, 7 blue, 13 green; 6 blue, 5 green; 9 blue, 6 red, 5 green\n\n 17 green, 1 red, 1 blue\n^ that draw is no good\nGame 37: 2 green, 16 blue, 1 red; 3 red, 5 blue, 4 green; 3 green, 5 red, 2 blue\n\n 2 green, 16 blue, 1 red\n^ that draw is no good\nGame 38: 10 red, 3 blue, 1 green; 2 blue, 4 red; 7 red, 1 blue; 8 blue, 5 red, 11 green; 12 green, 4 blue, 8 red\n\nrunning total: 477\nGame 39: 3 blue, 3 green, 1 red; 5 green, 9 blue; 1 green, 6 blue; 5 blue, 7 green, 1 red; 9 blue, 1 green\n\nrunning total: 516\nGame 40: 1 blue, 2 red, 2 green; 2 green, 14 blue; 2 red, 6 blue; 13 blue; 2 green, 10 blue\n\nrunning total: 556\nGame 41: 1 red, 1 blue, 1 green; 11 green, 1 red; 4 green; 5 green; 1 blue, 1 red, 10 green\n\nrunning total: 597\nGame 42: 4 blue, 3 red, 2 green; 6 red, 1 blue, 6 green; 11 red, 7 blue, 3 green; 6 blue, 7 red, 1 green; 11 red, 1 green, 6 blue; 2 blue, 4 green, 10 red\n\nrunning total: 639\nGame 43: 3 red, 5 blue; 2 green, 4 red, 3 blue; 7 red, 10 blue, 13 green\n\nrunning total: 682\nGame 44: 13 green, 5 blue, 3 red; 1 green, 5 blue, 8 red; 11 green, 4 blue, 9 red; 5 blue, 7 green, 9 red\n\nrunning total: 726\nGame 45: 12 red, 9 blue, 5 green; 9 green, 3 red; 3 green, 11 blue, 15 red\n\n 3 green, 11 blue, 15 red\n\n^ that draw is no good\nGame 46: 5 blue, 2 green, 1 red; 1 blue, 3 red, 3 green; 2 green, 7 blue\n\nrunning total: 772\nGame 47: 8 red, 8 green, 5 blue; 12 blue, 8 green, 7 red; 5 red, 1 blue, 2 green; 1 red, 4 green, 6 blue; 1 red, 3 blue; 5 green, 1 red, 3 blue\n\nrunning total: 819\nGame 48: 3 blue, 2 red, 5 green; 4 green, 5 blue; 3 blue, 13 green, 5 red\n\nrunning total: 867\nGame 49: 4 red, 9 blue, 1 green; 12 red, 8 blue; 5 red, 2 blue, 1 green; 11 red, 2 green, 9 blue; 8 red, 9 blue, 3 green\n\nrunning total: 916\nGame 50: 3 blue, 2 red; 3 blue, 7 green; 4 red, 2 blue, 8 green; 7 green, 2 blue, 4 red; 3 red, 3 green; 6 green, 4 red, 2 blue\n\nrunning total: 966\nGame 51: 9 blue, 4 red, 2 green; 5 red, 3 green, 3 blue; 5 green, 10 blue, 5 red; 8 red, 11 blue, 5 green; 1 red, 3 blue, 7 green\n\nrunning total: 1017\nGame 52: 1 blue, 9 red, 6 green; 8 red, 1 blue, 4 green; 13 green, 3 blue, 6 red; 3 green, 9 red; 3 blue, 12 green, 7 red\n\nrunning total: 1069\nGame 53: 1 blue, 9 green; 1 red, 2 green; 7 green, 1 red\n\nrunning total: 1122\nGame 54: 3 green, 3 blue, 9 red; 6 blue, 11 green, 1 red; 6 green, 1 red, 4 blue; 4 blue, 2 red, 13 green; 3 green, 1 red; 6 blue, 3 green, 8 red\n\nrunning total: 1176\nGame 55: 1 blue, 6 green; 4 red, 5 green; 8 red, 12 green; 5 red, 1 blue, 7 green; 1 blue, 11 red, 3 green\n\nrunning total: 1231\nGame 56: 1 green, 11 red, 1 blue; 2 green, 8 blue, 3 red; 5 blue, 6 red, 1 green\n\nrunning total: 1287\nGame 57: 5 green, 3 red, 2 blue; 10 green, 12 blue, 16 red; 7 blue, 13 red, 11 green\n\n 10 green, 12 blue, 16 red\n^ that draw is no good\n 7 blue, 13 red, 11 green\n\n^ that draw is no good\nGame 58: 5 green, 16 blue, 5 red; 9 blue, 2 green, 5 red; 5 blue, 3 red, 9 green\n\n 5 green, 16 blue, 5 red\n^ that draw is no good\nGame 59: 2 blue, 2 red; 7 blue, 3 green, 4 red; 2 green, 1 blue\n\nrunning total: 1346\nGame 60: 12 red, 5 green, 1 blue; 2 blue, 12 red, 4 green; 16 red, 4 green, 2 blue\n\n 16 red, 4 green, 2 blue\n\n^ that draw is no good\nGame 61: 3 green, 1 blue, 6 red; 4 green, 1 blue, 8 red; 4 red, 1 blue, 1 green; 4 green, 13 red\n\n 4 green, 13 red\n\n^ that draw is no good\nGame 62: 2 red, 4 blue; 2 blue, 13 green, 8 red; 4 red, 9 green, 4 blue; 8 green, 3 red, 7 blue; 3 blue, 6 red, 3 green\n\nrunning total: 1408\nGame 63: 1 green, 3 blue; 6 blue, 4 red, 3 green; 3 blue, 1 green, 1 red; 2 green, 2 blue, 3 red; 1 red, 2 blue; 5 red, 6 blue\n\nrunning total: 1471\nGame 64: 7 red, 10 blue, 4 green; 1 green, 18 red, 2 blue; 7 blue, 2 green; 10 red, 1 green, 7 blue; 3 green, 5 blue, 11 red\n\n 1 green, 18 red, 2 blue\n^ that draw is no good\nGame 65: 11 red, 2 blue; 1 green, 2 blue, 1 red; 3 blue, 2 green, 3 red; 3 blue, 3 red, 7 green\n\nrunning total: 1536\nGame 66: 3 red, 7 blue, 11 green; 10 blue, 4 green, 9 red; 11 blue, 11 red, 12 green; 8 red, 7 blue, 10 green; 5 red, 14 green, 3 blue\n\n 5 red, 14 green, 3 blue\n\n^ that draw is no good\nGame 67: 5 green, 1 red; 7 green, 4 blue; 3 red, 1 green, 3 blue\n\nrunning total: 1603\nGame 68: 9 blue, 11 green, 10 red; 12 blue, 3 red, 3 green; 8 red, 7 green, 9 blue\n\nrunning total: 1671\nGame 69: 1 green, 7 blue, 1 red; 1 red, 9 blue; 1 green, 2 red\n\nrunning total: 1740\nGame 70: 9 green, 2 blue, 1 red; 1 red, 2 blue, 16 green; 13 green, 4 blue, 13 red; 8 red, 7 green, 6 blue; 12 green, 3 blue, 3 red\n\n 1 red, 2 blue, 16 green\n^ that draw is no good\n 13 green, 4 blue, 13 red\n^ that draw is no good\nGame 71: 2 green, 4 red, 6 blue; 11 green, 6 blue, 2 red; 3 green, 1 blue, 5 red; 7 blue, 6 green\n\nrunning total: 1811\nGame 72: 4 blue, 1 green; 4 blue; 1 green, 3 blue; 4 blue; 1 red, 4 blue; 3 blue\n\nrunning total: 1883\nGame 73: 4 red, 1 green, 7 blue; 15 green, 4 blue, 17 red; 19 green, 3 blue, 11 red; 13 green, 5 blue, 1 red; 10 blue, 13 green, 17 red\n\n 15 green, 4 blue, 17 red\n^ that draw is no good\n 15 green, 4 blue, 17 red\n^ that draw is no good\n 19 green, 3 blue, 11 red\n^ that draw is no good\n 10 blue, 13 green, 17 red\n\n^ that draw is no good\nGame 74: 9 green, 2 blue, 18 red; 5 red, 8 green; 3 green, 4 blue, 3 red; 5 green, 3 blue\n\n 9 green, 2 blue, 18 red\n^ that draw is no good\nGame 75: 1 red, 10 blue, 1 green; 2 red, 19 blue; 4 red, 10 blue; 3 red, 7 blue, 1 green; 2 red, 3 blue\n\n 2 red, 19 blue\n^ that draw is no good\nGame 76: 4 green, 9 red, 7 blue; 8 green, 7 blue; 12 green, 9 red\n\nrunning total: 1959\nGame 77: 1 red, 6 blue, 2 green; 8 red, 5 green, 4 blue; 4 blue, 2 red, 3 green\n\nrunning total: 2036\nGame 78: 9 blue, 1 red, 8 green; 2 green, 9 blue; 2 green, 9 blue\n\nrunning total: 2114\nGame 79: 4 blue, 4 green, 1 red; 4 blue, 4 red, 4 green; 4 green, 1 blue, 6 red; 6 green; 6 red\n\nrunning total: 2193\nGame 80: 13 red, 8 blue; 2 green, 14 red, 13 blue; 7 red, 9 blue; 11 red, 18 blue; 2 blue, 3 red, 1 green\n\n 13 red, 8 blue\n^ that draw is no good\n 2 green, 14 red, 13 blue\n^ that draw is no good\n 11 red, 18 blue\n^ that draw is no good\nGame 81: 2 green, 9 red, 12 blue; 5 green, 5 red, 13 blue; 5 blue, 5 red; 2 red, 8 blue\n\nrunning total: 2274\nGame 82: 6 red, 15 green; 1 blue, 15 red, 13 green; 6 green, 1 blue, 1 red; 5 red, 6 green, 1 blue\n\n 6 red, 15 green\n^ that draw is no good\n 1 blue, 15 red, 13 green\n^ that draw is no good\nGame 83: 1 green; 1 blue, 1 green, 10 red; 7 red, 1 blue; 1 green, 11 red; 2 blue, 1 green, 3 red\n\nrunning total: 2357\nGame 84: 17 green, 8 red; 1 blue, 14 green, 2 red; 6 red, 1 blue, 6 green; 4 red, 10 green, 1 blue; 2 red, 2 blue, 1 green; 4 blue, 5 green, 3 red\n\n 17 green, 8 red\n^ that draw is no good\n 1 blue, 14 green, 2 red\n^ that draw is no good\nGame 85: 5 blue, 3 red; 1 blue, 1 green; 6 green, 1 blue, 1 red; 4 green, 2 blue, 7 red\n\nrunning total: 2442\nGame 86: 7 red, 3 blue, 4 green; 1 blue, 13 red; 3 red, 3 blue, 6 green; 1 blue, 1 green, 17 red; 8 blue, 13 red, 4 green; 6 blue, 4 green, 17 red\n\n 1 blue, 13 red\n^ that draw is no good\n 1 blue, 1 green, 17 red\n^ that draw is no good\n 8 blue, 13 red, 4 green\n^ that draw is no good\n 6 blue, 4 green, 17 red\n\n^ that draw is no good\nGame 87: 10 red, 3 green, 4 blue; 12 green, 10 red, 3 blue; 2 green, 16 red; 16 red, 3 blue, 14 green; 14 green, 11 red, 1 blue; 9 red, 4 blue, 6 green\n\n 2 green, 16 red\n^ that draw is no good\n 16 red, 3 blue, 14 green\n^ that draw is no good\n 16 red, 3 blue, 14 green\n^ that draw is no good\n 14 green, 11 red, 1 blue\n^ that draw is no good\nGame 88: 7 green, 4 red, 19 blue; 1 green, 5 red, 18 blue; 19 blue, 3 green, 6 red; 9 green, 14 blue, 5 red; 3 green, 5 red\n\n 7 green, 4 red, 19 blue\n^ that draw is no good\n 1 green, 5 red, 18 blue\n^ that draw is no good\n 19 blue, 3 green, 6 red\n^ that draw is no good\nGame 89: 4 red, 2 blue, 10 green; 6 blue, 5 red; 3 green, 4 blue, 1 red; 12 green, 2 red, 2 blue; 3 blue, 3 green, 3 red\n\nrunning total: 2531\nGame 90: 1 green, 19 red, 1 blue; 7 blue, 4 green, 10 red; 6 blue, 3 green, 13 red\n\n 1 green, 19 red, 1 blue\n^ that draw is no good\n 6 blue, 3 green, 13 red\n\n^ that draw is no good\nGame 91: 1 green, 9 blue; 7 green, 4 red, 3 blue; 6 green, 2 red, 8 blue; 1 red, 1 blue; 3 red, 2 green\n\nrunning total: 2622\nGame 92: 18 red, 2 green, 2 blue; 6 blue, 4 red, 6 green; 3 blue, 10 red; 8 blue, 2 green, 7 red\n\n 18 red, 2 green, 2 blue\n^ that draw is no good\nGame 93: 13 blue, 3 green, 15 red; 14 red, 2 green, 7 blue; 1 blue, 4 green, 13 red; 19 red, 5 green\n\n 13 blue, 3 green, 15 red\n^ that draw is no good\n 14 red, 2 green, 7 blue\n^ that draw is no good\n 1 blue, 4 green, 13 red\n^ that draw is no good\n 19 red, 5 green\n\n^ that draw is no good\nGame 94: 6 blue; 5 green, 8 blue; 1 red, 9 blue; 1 red, 8 blue; 5 green, 6 blue; 1 red\n\nrunning total: 2716\nGame 95: 9 blue, 14 green; 2 green, 1 red, 1 blue; 1 red, 3 green, 2 blue; 6 green, 1 red; 1 red, 8 blue, 14 green; 1 green, 5 blue\n\n 9 blue, 14 green\n^ that draw is no good\n 1 red, 8 blue, 14 green\n^ that draw is no good\nGame 96: 7 blue, 17 green; 19 green, 3 red, 2 blue; 6 green, 2 red, 2 blue; 3 blue, 16 green; 3 red, 20 green; 4 green, 2 blue\n\n 7 blue, 17 green\n^ that draw is no good\n 19 green, 3 red, 2 blue\n^ that draw is no good\n 3 blue, 16 green\n^ that draw is no good\n 3 red, 20 green\n^ that draw is no good\nGame 97: 1 green, 1 red, 1 blue; 4 red, 2 blue; 7 red; 6 red; 7 red\n\nrunning total: 2813\nGame 98: 2 red, 15 green; 10 green, 1 red; 1 red, 11 blue, 11 green; 13 blue, 8 green, 2 red; 1 red, 12 green, 7 blue\n\n 2 red, 15 green\n^ that draw is no good\nGame 99: 14 red, 2 blue, 1 green; 3 green, 13 red, 9 blue; 9 red, 9 blue, 2 green; 13 red, 7 green, 5 blue; 5 blue, 3 green, 11 red\n\n 14 red, 2 blue, 1 green\n^ that draw is no good\n 3 green, 13 red, 9 blue\n^ that draw is no good\n 13 red, 7 green, 5 blue\n^ that draw is no good\nGame 100: 1 blue, 1 red, 1 green; 8 blue, 1 green; 1 green, 7 blue, 1 red; 1 green, 4 blue, 1 red; 1 green, 3 blue\nrunning total: 2913\n",
          "output_type": "stream"
        }
      ],
      "execution_count": 55
    },
    {
      "cell_type": "markdown",
      "source": "# puzzle 2\nNow we want the fewest number of cubes that the bag had to contain to make the game possible. so find the largest number of each color for all draws, then multiply together\n\n### gameplan\n- set up a \"max total for each color for each game\" variable\n- don't care about game number any more, every game will have a valid answer\n- but still need to split that shit off my data\n- go thru line by line, replace ';' with ','\n- then split on those commas, anddddddddddddddd then do the color max comparison and setting\n- then at end multiply together and add to running total",
      "metadata": {}
    },
    {
      "cell_type": "code",
      "source": "#example data:\n#game1 = {'red' : 20, 'blue' : 10, 'green' : 1}\n#for index in game1:\n#    print(index)\n#    print(game1[index])\ndef game_power(dictionary):\n    power = 1\n    for index in dictionary:\n        power *= dictionary[index]\n    return power\n#print(game_power(game1))",
      "metadata": {
        "trusted": true
      },
      "outputs": [],
      "execution_count": 56
    },
    {
      "cell_type": "code",
      "source": "#split off game number and replace ;\nprint(line1)\ngameSplit = line1.split(':')\ndraws = gameSplit[1]\ncolors = draws.replace(';', ',').split(',')\nprint(colors)",
      "metadata": {
        "trusted": true
      },
      "outputs": [
        {
          "name": "stdout",
          "text": "Game 1: 1 green, 2 blue; 15 blue, 12 red, 2 green; 4 red, 6 blue; 10 blue, 8 red; 3 red, 12 blue; 1 green, 12 red, 8 blue\n[' 1 green', ' 2 blue', ' 15 blue', ' 12 red', ' 2 green', ' 4 red', ' 6 blue', ' 10 blue', ' 8 red', ' 3 red', ' 12 blue', ' 1 green', ' 12 red', ' 8 blue']\n",
          "output_type": "stream"
        }
      ],
      "execution_count": 57
    },
    {
      "cell_type": "code",
      "source": "#color max comparison and setting\ngameMax = {'red' : 0, 'blue' : 0, 'green' : 0}\nprint(gameMax)\nfor color in colors:\n    colorSplit = color.split()\n    colorDrawn = colorSplit[1]\n    numberDrawn = colorSplit[0]\n\n    #compare against current biggest number:\n    if(gameMax[colorDrawn] < int(numberDrawn)):\n        gameMax[colorDrawn] = int(numberDrawn)\n        \nprint(gameMax)\nprint(game_power(gameMax))",
      "metadata": {
        "trusted": true
      },
      "outputs": [
        {
          "name": "stdout",
          "text": "{'red': 0, 'blue': 0, 'green': 0}\n{'red': 12, 'blue': 15, 'green': 2}\n360\n",
          "output_type": "stream"
        }
      ],
      "execution_count": 58
    },
    {
      "cell_type": "code",
      "source": "#turn into function\ndef process_color_line(colorLine):\n    gameMax = {'red' : 0, 'blue' : 0, 'green' : 0}\n\n    for color in colors:\n        colorSplit = color.split()\n        colorDrawn = colorSplit[1]\n        numberDrawn = colorSplit[0]\n\n        #compare against current biggest number:\n        if(gameMax[colorDrawn] < int(numberDrawn)):\n            gameMax[colorDrawn] = int(numberDrawn)\n            \n    return(game_power(gameMax))\n\n#test\n#print(process_color_line(colors))",
      "metadata": {
        "trusted": true
      },
      "outputs": [],
      "execution_count": 59
    },
    {
      "cell_type": "markdown",
      "source": "### puttin it all together",
      "metadata": {}
    },
    {
      "cell_type": "code",
      "source": "input = open('p2input.txt', 'r')\nrunningTotal = 0\n\nfor line in input:\n    draws = line.split(':')[1]\n    colors = draws.replace(';', ',').split(',')\n\n    runningTotal += process_color_line(colors)\n\nprint(runningTotal)",
      "metadata": {
        "trusted": true
      },
      "outputs": [
        {
          "name": "stdout",
          "text": "55593\n",
          "output_type": "stream"
        }
      ],
      "execution_count": 60
    }
  ]
}