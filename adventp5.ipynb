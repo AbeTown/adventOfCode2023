{
 "cells": [
  {
   "cell_type": "markdown",
   "metadata": {},
   "source": [
    "# Day 5\n",
    "## Puzzle 1\n",
    "### gameplan:\n",
    "- use the example input because the numbers in the real one are not gonna be helpful\n",
    "- split out the seeds, write a function to digest maps into data\n",
    "- do I want to do text based logic? I don't think so... not enough maps. Just do manually\n",
    "- so discard the text, then we will just have maps 1-7, with 7 1 being seed->soil and 7 being humidity-> location\n",
    "- Is it time for objects???? Map object takes a range, a source, and a target. Method to convert\n",
    "- group maps contain a list of maps. method to figure out which map you need and convert input\n",
    "- then just for loop the seeds, for loop the 7 group maps, and pass each seed on through"
   ]
  },
  {
   "cell_type": "code",
   "execution_count": 16,
   "metadata": {},
   "outputs": [
    {
     "name": "stdout",
     "output_type": "stream",
     "text": [
      "['79', '14', '55', '13']\n",
      "['seed-to-soil map:\\n50 98 2\\n52 50 48', 'soil-to-fertilizer map:\\n0 15 37\\n37 52 2\\n39 0 15', 'fertilizer-to-water map:\\n49 53 8\\n0 11 42\\n42 0 7\\n57 7 4', 'water-to-light map:\\n88 18 7\\n18 25 70', 'light-to-temperature map:\\n45 77 23\\n81 45 19\\n68 64 13', 'temperature-to-humidity map:\\n0 69 1\\n1 0 69', 'humidity-to-location map:\\n60 56 37\\n56 93 4']\n"
     ]
    }
   ],
   "source": [
    "exampleInput = open('p5-exampleInput.txt', 'r')\n",
    "exampleLines = exampleInput.read().split('\\n\\n')\n",
    "exampleSeeds = exampleLines[0].split(':')[1].split()\n",
    "print(exampleSeeds)\n",
    "del exampleLines[0] #already got seed info\n",
    "print(exampleLines)"
   ]
  },
  {
   "cell_type": "code",
   "execution_count": 17,
   "metadata": {},
   "outputs": [
    {
     "name": "stdout",
     "output_type": "stream",
     "text": [
      "[['50 98 2', '52 50 48'], ['0 15 37', '37 52 2', '39 0 15'], ['49 53 8', '0 11 42', '42 0 7', '57 7 4'], ['88 18 7', '18 25 70'], ['45 77 23', '81 45 19', '68 64 13'], ['0 69 1', '1 0 69'], ['60 56 37', '56 93 4']]\n"
     ]
    }
   ],
   "source": [
    "def digest_map(line):\n",
    "    maps = line.split(':\\n')[1].split('\\n')\n",
    "    return maps\n",
    "\n",
    "maps = []\n",
    "for line in exampleLines:\n",
    "    maps.append(digest_map(line))\n",
    "print(maps)    "
   ]
  },
  {
   "cell_type": "code",
   "execution_count": 18,
   "metadata": {},
   "outputs": [],
   "source": [
    "#okeyyyy class timeeee\n",
    "class Map:\n",
    "    def __init__(self, inputString):\n",
    "        self.values = inputString.split()\n",
    "        self.range = int(self.values[2])\n",
    "        self.source = int(self.values[1])\n",
    "        self.target = int(self.values[0])\n",
    "        self.shift = int(self.target) - int(self.source)\n",
    "\n",
    "    def __str__(self):\n",
    "        return f\"values: {self.values} range: {self.range} source: {self.source} target: {self.target} shift: {self.shift}\"\n",
    "\n",
    "    #return true if given integer falls within source range\n",
    "    def contains(self, int):\n",
    "        if((int >= self.source) and (int < (self.source + self.range))):\n",
    "            return True\n",
    "        return False\n",
    "\n",
    "    def translate(self, int):\n",
    "        #if(self.contains(int)):\n",
    "        return(int + self.shift)\n",
    "        \n",
    "        \n",
    "#def print_map(map):\n",
    "#    print(\"values: \" + str(m1.values) + \"range: \" + str(m1.range) + \"source: \" + str(m1.source) + str(m1.target))\n",
    "#print(maps)\n",
    "#print(maps[0])\n",
    "#print(maps[0][0])\n",
    "#print(str(m1.values) + str(m1.range) + str(m1.source) + str(m1.target))\n",
    "#m1 = Map(maps[0][0])\n",
    "#print(m1)\n",
    "#if(m1.contains(99)):\n",
    "#    print(m1.translate(99))\n",
    "\n",
    "#groupMaps = []\n",
    "#for list in maps:\n",
    "#    newGroup = []\n",
    "#    for map in list:\n",
    "#        print(map)\n",
    "#        newGroup.append(Map(map))\n",
    "#    groupMaps.append(newGroup)\n",
    "\n",
    "#print(groupMaps)\n",
    "#print(groupMaps[0][0])\n",
    "#print(groupMaps[0][1])"
   ]
  },
  {
   "cell_type": "code",
   "execution_count": 19,
   "metadata": {},
   "outputs": [
    {
     "name": "stdout",
     "output_type": "stream",
     "text": [
      "[<__main__.Map object at 0x29465f8>, <__main__.Map object at 0x28ac170>]\n",
      "values: ['50', '98', '2'] range: 2 source: 98 target: 50 shift: -48\n",
      "values: ['52', '50', '48'] range: 48 source: 50 target: 52 shift: 2\n",
      "68\n",
      "51\n"
     ]
    }
   ],
   "source": [
    "class MapGroup:\n",
    "    def __init__(self, list):\n",
    "        self.maps = list\n",
    "\n",
    "    def contains(self, int):\n",
    "        for map in self.maps:\n",
    "            if(map.contains(int)):\n",
    "                return [True, map]\n",
    "        return[False, None]\n",
    "                \n",
    "    def translate(self, int):\n",
    "        whichMap = self.contains(int)\n",
    "        if whichMap[0]:\n",
    "            return whichMap[1].translate(int)\n",
    "        else:\n",
    "            #none of the maps have a range, so return the original int\n",
    "            return int\n",
    "\n",
    "\n",
    "mapGroups = []\n",
    "for list in maps:\n",
    "    newGroup = []\n",
    "    for map in list:\n",
    "        #print(map)\n",
    "        newGroup.append(Map(map))\n",
    "    mapGroup = MapGroup(newGroup)\n",
    "    mapGroups.append(mapGroup)\n",
    "\n",
    "#print(mapGroups)\n",
    "#mapGroup = MapGroup(groupMaps)\n",
    "#print(mapGroup.maps)\n",
    "\n",
    "print(mapGroups[0].maps)\n",
    "for map in mapGroups[0].maps:\n",
    "    print(map)\n",
    "    \n",
    "exampleInt1 = 66\n",
    "exampleInt2 = 99\n",
    "print(mapGroups[0].translate(exampleInt1))\n",
    "print(mapGroups[0].translate(exampleInt2))\n"
   ]
  },
  {
   "cell_type": "markdown",
   "metadata": {},
   "source": [
    "### classes working pretty well... time to go for it"
   ]
  },
  {
   "cell_type": "code",
   "execution_count": 20,
   "metadata": {},
   "outputs": [
    {
     "name": "stdout",
     "output_type": "stream",
     "text": [
      "[82, 43, 86, 35]\n",
      "the smallest number is: 35\n"
     ]
    }
   ],
   "source": [
    "result = []\n",
    "for seed in exampleSeeds:\n",
    "    #pass each seed through all 7 mappers, append to result array\n",
    "    seed = int(seed)\n",
    "    for mapGroup in mapGroups:\n",
    "        #print(\"translated \" + str(seed))\n",
    "        seed = mapGroup.translate(seed)\n",
    "        #print(\"into: \" + str(seed))\n",
    "    result.append(seed)\n",
    "\n",
    "print(result)\n",
    "print(\"the smallest number is: \" + str(min(result)))"
   ]
  },
  {
   "cell_type": "code",
   "execution_count": 21,
   "metadata": {},
   "outputs": [
    {
     "name": "stdout",
     "output_type": "stream",
     "text": [
      "[2427978056, 206480614, 1440257275, 3641698540, 3581028178, 3627088588, 2565828926, 1401122233, 2002394171, 173706076, 1384265467, 1372162094, 3477430125, 3768110609, 1930868565, 203912911, 3321185801, 2377229143, 298472081, 3978711761]\n",
      "the smallest number is: 173706076\n"
     ]
    }
   ],
   "source": [
    "input = open('p5input.txt','r')\n",
    "lines = input.read().split('\\n\\n')\n",
    "seeds = lines[0].split(':')[1].split()\n",
    "del lines[0] #already got seed info\n",
    "\n",
    "maps = []\n",
    "for line in lines:\n",
    "    maps.append(digest_map(line))\n",
    "#print(maps)    \n",
    "\n",
    "mapGroups = []\n",
    "for list in maps:\n",
    "    newGroup = []\n",
    "    for map in list:\n",
    "        #print(map)\n",
    "        newGroup.append(Map(map))\n",
    "    mapGroup = MapGroup(newGroup)\n",
    "    mapGroups.append(mapGroup)\n",
    "#print(mapGroups)\n",
    "\n",
    "result = []\n",
    "for seed in seeds:\n",
    "    #pass each seed through all 7 mappers, append to result array\n",
    "    seed = int(seed)\n",
    "    for mapGroup in mapGroups:\n",
    "        #print(\"translated \" + str(seed))\n",
    "        seed = mapGroup.translate(seed)\n",
    "        #print(\"into: \" + str(seed))\n",
    "    result.append(seed)\n",
    "\n",
    "print(result)\n",
    "print(\"the smallest number is: \" + str(min(result)))"
   ]
  },
  {
   "cell_type": "markdown",
   "metadata": {},
   "source": [
    "### Huzzah! First Try! \n",
    "Goes to show how much good organization helps I guess\n",
    "\n",
    "## Part 2\n",
    "### gameplan\n",
    "- uhhh so same thing but just with more seeds???\n",
    "- just do a bit more splitting and list work with the seeds, then same for loop over the seeds again\n",
    "\n",
    "### edit\n",
    "- so it seems like they are making you deal with a memory issue here\n",
    "- which means there is a more clever way of doing it?\n",
    "- or alternatively you need to go through one by one instead of making a huge ass list like me...\n",
    "- ahhhh I think I get it... you should be able to combine all of the filters and make a one-step translate for each number...\n",
    "- that doesn't save like... that much time does it? but yeah you could then go through one by one and apply the one translate to it to get the result.\n",
    "- making the translation table would be just as bad wouldn't it? Yes... it would... if you actually wrote it all out.\n",
    "- Instead, you can just modify somehow so that you look at how each mapper would apply to each range of seeds. You should only have to check each mapping range one time. so if mapper one has 3 ranges, you loop those 3 ranges and ask which one is going to return the smallest number for the given seed input range... But you can't know the final range can you?\n",
    "- So now we are examining the combination of filters to see which input ranges give the smallest return values... so starting at the end, 0, or 1 maybe, are the smallest return values. How do you get 0 or 1? working backwards from there should give you a starting number that would give 0. the question is how to translate that into a range...\n",
    "- the 7 filters and their various mappers can probably be turned into... idk lets just say 30 straight through converters. And then anything that's not captured by a converter gets passed straight through as itself. so you've got:\n",
    "- 0->0, 1->1, 2->2, ... 88->88\n",
    "- 89->144,90->145,91->146...100->155\n",
    "- 101->143,102->142,...104->140\n",
    "- 105->105, 106->106,107->107...110->110\n",
    "- 110->1000, 111->1001, 112->1002...115->1005\n",
    "- 116->116,...118->118\n",
    "- 119->89, 120->90, 121->91\n",
    "- 122->122... 10000->10000\n",
    "- So if your input seed range is 23-106, you have to look at all the ranges that you match:\n",
    "- straight through, 89-100, 101-104, straight through\n",
    "- I don't think there's any reverse counting... so you just take the low end of each of those:\n",
    "- so 23->23, 89->144, 101->143, 105->105 and you're done.  The low for 23-106 is 23. but if like 105->5, 106->6 you would capture that still.\n",
    "\n",
    "## summing all that up...\n",
    "- my plan would be to build that range-translate table\n",
    "- then you can split up your seed input ranges by that, and take the minimum from each group, and send that through, store answers, and find minimum.\n",
    "- to build the range-translate table, we start with our soil table. That will have some number of input ranges. we can store that as min and max inclusive key in dictionary, with what it translates to. e.g. {(50,97):(52,99)}\n",
    "- for each of those, we want to look at our next filter table. Lets say it has nothing 50-60, +3 61-80, and -40 81-105. that would look like: {(61,80):(64,84), (81,103):(41,63)}\n",
    "- so we take the output range of our first table and compare to input range of second table. in this case, we get that {(52,60):(52,60),(61,80):(64,84),(81,99):(41,59)}\n",
    "- then we have to translate that back to our original inputs, which, while we're at it, should have included an open ended range... {(?,49):(?,49),(50,58):(52,60),(59,78):(64:84),(79,97):(41,59),(98,?):NOPE this gets split up.,(98,105):(58:65),(105,?):(105:?)}\n",
    "- now our 23-106 seed range matches: 0-ST, 50, 59, 79, 98, 105-ST, and the random 98 is almost the lowest, and could have been easily.\n",
    "- so we went from one input section, 0-infinity:0-infinity\n",
    "- to three sections, 0-49, 50-97, 98-inf\n",
    "- to 0-49,50-58,59-78,79-97,98-105,105-inf to 6 sections.\n",
    "\n",
    "## summing all that up again...\n",
    "- I think I could do this, but definitely feel like I am not getting 100% of this bizzness and want to look up some other shittttt.\n",
    "- is another way to look at it to just keep adjusting a big number list?\n",
    "- so if you have 1-100 numbers, and you get to that first filter... there is no way to have a 50 or 51 anymore. it all gets shifted up. 1,2,...,49,52,53,...,99,100,101,102\n",
    "- no... that's another version of the store every single number translation table... which is probably worse than storing ranges like I did with the dictionaries above...\n",
    "\n",
    "## after looking online\n",
    "- yepppp I guess I can pat myself on the back a bit... doing the range splitting thing is correct. I almost certainly didn't have the fastest way to implement that, but one of the videos I watched uses tuples exactly like me wait actually this is totally identical to what I just put up there...\n",
    "- "
   ]
  },
  {
   "cell_type": "code",
   "execution_count": 22,
   "metadata": {},
   "outputs": [
    {
     "data": {
      "text/plain": [
       "' brute force infinite memory attempt\\ncounter = 1\\nfullSeedList = []\\nfor seed in seeds:\\n    if (counter-1) % 2 == 0:\\n        # second seed found\\n        startIndex = int(seeds[counter -1])\\n        endIndex = int(seeds[counter]) + startIndex\\n        print(startIndex)\\n        print(endIndex)\\n        for i in range(startIndex, endIndex):\\n            fullSeedList.append(i)\\n    counter += 1\\ndel range\\nfor i in range(10):\\n    print(i)\\n    print(fullSeedList[i])'"
      ]
     },
     "execution_count": 22,
     "metadata": {},
     "output_type": "execute_result"
    }
   ],
   "source": [
    "input = open('p5input.txt','r')\n",
    "lines = input.read().split('\\n\\n')\n",
    "seeds = lines[0].split(':')[1].split()\n",
    "del lines[0] #already got seed info\n",
    "\n",
    "maps = []\n",
    "for line in lines:\n",
    "    maps.append(digest_map(line))\n",
    "#print(maps)    \n",
    "\n",
    "mapGroups = []\n",
    "for list in maps:\n",
    "    newGroup = []\n",
    "    for map in list:\n",
    "        #print(map)\n",
    "        newGroup.append(Map(map))\n",
    "    mapGroup = MapGroup(newGroup)\n",
    "    mapGroups.append(mapGroup)\n",
    "#print(mapGroups)\n",
    "\n",
    "''' brute force infinite memory attempt\n",
    "counter = 1\n",
    "fullSeedList = []\n",
    "for seed in seeds:\n",
    "    if (counter-1) % 2 == 0:\n",
    "        # second seed found\n",
    "        startIndex = int(seeds[counter -1])\n",
    "        endIndex = int(seeds[counter]) + startIndex\n",
    "        print(startIndex)\n",
    "        print(endIndex)\n",
    "        for i in range(startIndex, endIndex):\n",
    "            fullSeedList.append(i)\n",
    "    counter += 1\n",
    "del range\n",
    "for i in range(10):\n",
    "    print(i)\n",
    "    print(fullSeedList[i])'''"
   ]
  },
  {
   "cell_type": "markdown",
   "metadata": {},
   "source": [
    "- incomming range 1-100\n",
    "- your map can be all below, overlap bottom, all contained in middle, overlap top, and all above\n",
    "- map (33-34)-> (135-136), 90->93\n",
    "- (1-32), (33-34), (35-100)\n",
    "- map2 (40-80) -> 140-180 , 93-> 107\n",
    "- 1-32), 33-34, 34-39, 40-80, 81-92, 90? 93? 100\n",
    "- compare 1 map 2 next then translate back to the start, then do "
   ]
  },
  {
   "cell_type": "code",
   "execution_count": 23,
   "metadata": {},
   "outputs": [
    {
     "name": "stdout",
     "output_type": "stream",
     "text": [
      "[82, 43, 86, 35]\n",
      "the smallest number is: 35\n",
      "[[79, 93], [55, 68]]\n"
     ]
    }
   ],
   "source": [
    "input = open('p5-exampleInput.txt','r')\n",
    "lines = input.read().split('\\n\\n')\n",
    "seeds = lines[0].split(':')[1].split()\n",
    "del lines[0] #already got seed info\n",
    "\n",
    "maps = []\n",
    "for line in lines:\n",
    "    maps.append(digest_map(line))\n",
    "#print(maps)    \n",
    "\n",
    "mapGroups = []\n",
    "for list in maps:\n",
    "    newGroup = []\n",
    "    for map in list:\n",
    "        #print(map)\n",
    "        newGroup.append(Map(map))\n",
    "    mapGroup = MapGroup(newGroup)\n",
    "    mapGroups.append(mapGroup)\n",
    "#print(mapGroups)\n",
    "\n",
    "result = []\n",
    "for seed in seeds:\n",
    "    #pass each seed through all 7 mappers, append to result array\n",
    "    seed = int(seed)\n",
    "    for mapGroup in mapGroups:\n",
    "        #print(\"translated \" + str(seed))\n",
    "        seed = mapGroup.translate(seed)\n",
    "        #print(\"into: \" + str(seed))\n",
    "    result.append(seed)\n",
    "\n",
    "print(result)\n",
    "print(\"the smallest number is: \" + str(min(result)))\n",
    "\n",
    "count = 0\n",
    "seedRange = []\n",
    "for seed in seeds:\n",
    "    if not (count % 2 ==0):\n",
    "        start = int(seeds[count-1])\n",
    "        end = int(seeds[count]) + int(start)\n",
    "        seedRange.append([start, end])\n",
    "    count += 1\n",
    "\n",
    "print(seedRange)"
   ]
  },
  {
   "cell_type": "code",
   "execution_count": 31,
   "metadata": {},
   "outputs": [
    {
     "name": "stdout",
     "output_type": "stream",
     "text": [
      "[79, 93]\n",
      "values: ['50', '98', '2'] range: 2 source: 98 target: 50 shift: -48\n",
      "values: ['52', '50', '48'] range: 48 source: 50 target: 52 shift: 2\n"
     ]
    }
   ],
   "source": [
    "firstRange = seedRange[0]\n",
    "print(firstRange)\n",
    "firstMapGroup = mapGroups[0]\n",
    "#print(firstMapGroup.maps)\n",
    "for i in range(len(firstMapGroup.maps)):\n",
    "    print(firstMapGroup.maps[i])"
   ]
  },
  {
   "cell_type": "code",
   "execution_count": 34,
   "metadata": {},
   "outputs": [
    {
     "name": "stdout",
     "output_type": "stream",
     "text": [
      "values: ['52', '50', '48'] range: 48 source: 50 target: 52 shift: 2\n",
      "[79, 93]\n"
     ]
    }
   ],
   "source": [
    "firstMap = firstMapGroup.maps[1]\n",
    "print(firstMap)\n",
    "print(firstRange)"
   ]
  },
  {
   "cell_type": "code",
   "execution_count": 35,
   "metadata": {},
   "outputs": [
    {
     "name": "stdout",
     "output_type": "stream",
     "text": [
      "79\n",
      "93\n",
      "50\n",
      "98\n"
     ]
    }
   ],
   "source": [
    "start = firstRange[0]\n",
    "end = firstRange[1]\n",
    "mapStart = firstMap.source\n",
    "mapEnd = firstMap.source + firstMap.range\n",
    "print(start)\n",
    "print(end)\n",
    "print(mapStart)\n",
    "print(mapEnd)"
   ]
  },
  {
   "cell_type": "code",
   "execution_count": null,
   "metadata": {},
   "outputs": [],
   "source": []
  }
 ],
 "metadata": {
  "kernelspec": {
   "display_name": "Python 3 (ipykernel)",
   "language": "python",
   "name": "python3"
  },
  "language_info": {
   "codemirror_mode": {
    "name": "ipython",
    "version": 3
   },
   "file_extension": ".py",
   "mimetype": "text/x-python",
   "name": "python",
   "nbconvert_exporter": "python",
   "pygments_lexer": "ipython3",
   "version": "3.9.1"
  }
 },
 "nbformat": 4,
 "nbformat_minor": 4
}
