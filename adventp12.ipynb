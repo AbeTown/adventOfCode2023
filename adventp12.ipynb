{
  "metadata": {
    "kernelspec": {
      "name": "python",
      "display_name": "Python (Pyodide)",
      "language": "python"
    },
    "language_info": {
      "codemirror_mode": {
        "name": "python",
        "version": 3
      },
      "file_extension": ".py",
      "mimetype": "text/x-python",
      "name": "python",
      "nbconvert_exporter": "python",
      "pygments_lexer": "ipython3",
      "version": "3.8"
    }
  },
  "nbformat_minor": 4,
  "nbformat": 4,
  "cells": [
    {
      "cell_type": "code",
      "source": "input = open('p12input.txt','r')\nexample = open('p12-example.txt','r')\n\nprint(example.read())",
      "metadata": {
        "trusted": true
      },
      "outputs": [
        {
          "name": "stdout",
          "text": "???.### 1,1,3\n.??..??...?##. 1,1,3\n?#?#?#?#?#?#?#? 1,3,1,6\n????.#...#... 4,1,1\n????.######..#####. 1,6,5\n?###???????? 3,2,1\n",
          "output_type": "stream"
        }
      ],
      "execution_count": 3
    },
    {
      "cell_type": "markdown",
      "source": "# the plan\n\n- function to see if there's only one solution\n- maybe go at it from the ends where you have concrete things you can rule out\n- can identify solid groups, e.g. only one 6, and there is ######\n- when identify group, place period on both sides\n- then take groups of questino marks and do the permutation calculation\n- when going from ends, if you know you have group of 3 coming up and find you first # then you can fill out 3 in a row, + a period\n- a question can't be part of the group you're currently considering, if it touches up against # that would make too big\n- 7 choose 4? no. can't get any of the permutation equations to work lol.\n- go thru and replace ? with . and #\n- and then examine ???? blocks\n- go until you get to first #\n- start checking against your desired size\n- 2 paths, path 1: you get to your desired, drop periods on both sides, move on\n- path2: you have e.g. 5 # left, and 1 ? behind, so 5-1 = 4 remaining that you can fill out before moving on\n- then whenever you're going to swap a ? at that point, you have to check how much youre to add to your total, and can rule stuff out that way. \n\n??????? 2,1\n##.     #\n????    1\n?????????? 4, 1, 2\n####. #. ## = 9 total\n10 spaces - 9 = 1, but include the 3 groups, = 4 choices total, 3 groups, so 4c3 = 4 \n- your groups are the #+1 size except for the last group, which is just the #\n- question mark spaces - \n.1.1.......3\n??? 1,1\n#. #\n3 spaces filled, no extra ?s so 1 solution\n5 spaces filled, -2 ?s remaining, DOES NOT COMPUTE\n\nthese cases are our 3c1 * 2c1 \n.1....1....3\n..1...1....3\n...1..1....3\n.1.....1...3\n..1....1...3\n...1...1...3\n??????????    #### # ##                . .                           ?\nLine length - size of hash blocks, - (number of hash blocks - 1) = free spaces\n10 - (4 + 1 + 2) - (3 - 1) = free spaces\n10 - 7 - 2 = 1 free space \n1 free space + number of hash blocks = 4 choose number of hash blocks\n4 choose 3\ntotal + 1 - length of hashes? 10 + 1 = 11 -7 = 4, choose # of hash blocks = 4 choose 3\n4 + 1 = 5 - 1 = 4 choose 1 \n3 + 1 = 4 - 2 = 2 choose 2 = 1\n11 + 1 = 12 - 7 = 5 choose 3 = 10 \n7+1 = 8 - 3 = 5 choose 2 = 10 hooraaaaaaaaaaaaaaaaaaaaay\nwhen hashes < ??????????????????? size : do this ^^^\n\nbut what about when you have ########## ?#?#?#?# e.g. when ?<#######\n\n",
      "metadata": {}
    }
  ]
}