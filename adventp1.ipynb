{
  "metadata": {
    "kernelspec": {
      "name": "python",
      "display_name": "Python (Pyodide)",
      "language": "python"
    },
    "language_info": {
      "codemirror_mode": {
        "name": "python",
        "version": 3
      },
      "file_extension": ".py",
      "mimetype": "text/x-python",
      "name": "python",
      "nbconvert_exporter": "python",
      "pygments_lexer": "ipython3",
      "version": "3.8"
    }
  },
  "nbformat_minor": 4,
  "nbformat": 4,
  "cells": [
    {
      "cell_type": "markdown",
      "source": "# advent of code day 1\n### puzzle 1\n",
      "metadata": {}
    },
    {
      "cell_type": "code",
      "source": "input = open('p1input.txt', 'r')\n#print(input.read())",
      "metadata": {
        "trusted": true
      },
      "outputs": [],
      "execution_count": 69
    },
    {
      "cell_type": "code",
      "source": "def get_first_number(line):\n    for char in line:\n        if(char.isnumeric()):\n            return char",
      "metadata": {
        "trusted": true
      },
      "outputs": [],
      "execution_count": 70
    },
    {
      "cell_type": "code",
      "source": "line1 = '1abc3'\nline2 = '45'\nline3 = '3'\n\n#print(get_first_number(line1))\n#print(get_first_number(line2))\n#print(get_first_number(line3))",
      "metadata": {
        "trusted": true
      },
      "outputs": [],
      "execution_count": 71
    },
    {
      "cell_type": "code",
      "source": "total = 0\nfor line in input:\n    nextNumber = \"\"\n    nextNumber += get_first_number(line)\n    reversedLine = line[::-1]\n    nextNumber += get_first_number(reversedLine)\n    #print(nextNumber)\n    total += int(nextNumber)\n\nprint(total)",
      "metadata": {
        "trusted": true
      },
      "outputs": [
        {
          "name": "stdout",
          "text": "53974\n",
          "output_type": "stream"
        }
      ],
      "execution_count": 72
    },
    {
      "cell_type": "markdown",
      "source": "### puzzle2",
      "metadata": {}
    },
    {
      "cell_type": "code",
      "source": "#is the file still in a good state or do I need to re-read it in?\n#for line in input:\n#    print(line)\n\n#it's gone. \ninput = open('p1input.txt', 'r')\n#for line in input:\n#    print(line)",
      "metadata": {
        "trusted": true
      },
      "outputs": [],
      "execution_count": 102
    },
    {
      "cell_type": "code",
      "source": "#is it still good or does reading line by line ruin it? \n#for line in input:\n#    print(line)\n\n#it ruins it. ",
      "metadata": {
        "trusted": true
      },
      "outputs": [],
      "execution_count": 103
    },
    {
      "cell_type": "markdown",
      "source": "### replace words with numbers",
      "metadata": {}
    },
    {
      "cell_type": "code",
      "source": "def replace_number(line, nums):\n    charlist = \"\"\n    finalReturn = \"\"\n    for char in line:\n        if char.isnumeric():\n            return str(char)\n        else:\n            charlist += char\n            #print(charlist)\n            for number in nums:\n                #print(number)\n                if number in charlist:\n                    #print(charlist)\n                    #print(number)\n                \n                    return str(nums.index(number) + 1)\n\nline1 = 'two1nine'\nline2 = 'eighttwothree'\nline3 = 'abcone2threexyz'\nline4 = 'xtwone3four'\nline5 = 'sev3ensevenseven'\n\n#print(replace_number(line1))\n#print(replace_number(line2))\n#print(replace_number(line3))\n#print(replace_number(line4))\n#print(replace_number(line5))\n",
      "metadata": {
        "trusted": true
      },
      "outputs": [],
      "execution_count": 104
    },
    {
      "cell_type": "code",
      "source": "#list = ['one']\n#string = 'one'\n#list[0] in string",
      "metadata": {
        "trusted": true
      },
      "outputs": [],
      "execution_count": 105
    },
    {
      "cell_type": "code",
      "source": "total = 0\noneThruNine = ['one', 'two', 'three', 'four', 'five', 'six', 'seven', 'eight', 'nine']\nnineThruOne = ['eno', 'owt', 'eerht', 'ruof', 'evif', 'xis', 'neves', 'thgie', 'enin']\nfor line in input:\n    #print(\"next line is: \" + line)\n    nextNumber = \"\"\n    nextNumber += replace_number(line, oneThruNine)\n    #print(\"next number is: \" + nextNumber)\n    reversedLine = line[::-1]\n    #print(\"reversed line is: \" + reversedLine)\n    nextNumber += replace_number(reversedLine, nineThruOne)\n    #print(\"next number is: \" + nextNumber)\n    #print(nextNumber)\n    total += int(nextNumber)\n\nprint(total)",
      "metadata": {
        "trusted": true
      },
      "outputs": [
        {
          "name": "stdout",
          "text": "52840\n",
          "output_type": "stream"
        }
      ],
      "execution_count": 106
    },
    {
      "cell_type": "code",
      "source": "",
      "metadata": {
        "trusted": true
      },
      "outputs": [],
      "execution_count": null
    }
  ]
}